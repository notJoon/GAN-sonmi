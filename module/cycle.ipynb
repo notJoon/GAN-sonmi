{
 "cells": [
  {
   "cell_type": "code",
   "execution_count": 3,
   "metadata": {},
   "outputs": [],
   "source": [
    "import torch\n",
    "from datasets import HorseZebra\n",
    "import sys\n",
    "from utils import save_checkpoint, load_checkpoint\n",
    "from torch.utils.data import DataLoader\n",
    "from torchvision.utils import save_image\n",
    "import torch.nn as nn\n",
    "import torch.optim as optim\n",
    "import config\n",
    "from tqdm import tqdm\n",
    "from cycle import CycleDiscriminator, CycleGenerator"
   ]
  },
  {
   "cell_type": "code",
   "execution_count": null,
   "metadata": {},
   "outputs": [],
   "source": [
    "def train_fn():\n",
    "    pass "
   ]
  },
  {
   "cell_type": "code",
   "execution_count": 4,
   "metadata": {},
   "outputs": [],
   "source": [
    "def main():\n",
    "    disc_H = CycleDiscriminator(in_channels=3).to(config.DEVICE)\n",
    "    disc_Z = CycleDiscriminator(in_channels=3).to(config.DEVICE)\n",
    "\n",
    "    gen_H = CycleGenerator(img_channels=3, num_residual=9).to(config.DEVICE)\n",
    "    gen_Z = CycleGenerator(img_channels=3, num_residual=9).to(config.DEVICE)\n",
    "\n",
    "    opt_disc = optim.Adam(\n",
    "        list(disc_H.parameters()) + list(disc_Z.parameters()),\n",
    "        lr=config.LEARNING_RATE,\n",
    "        betas=(0.5, 0.999)\n",
    "    )\n",
    "    opt_gen = optim.Adam(\n",
    "        list(gen_H.parameters()) + list(gen_Z.parameters()),\n",
    "        lr=config.LEARNING_RATE,\n",
    "        betas=(0.5, 0.999)\n",
    "    )\n",
    "\n",
    "    L1 = nn.L1Loss()\n",
    "    mse = nn.MSELoss()"
   ]
  },
  {
   "cell_type": "code",
   "execution_count": 5,
   "metadata": {},
   "outputs": [],
   "source": [
    "if __name__ == '__main__':\n",
    "    main()"
   ]
  },
  {
   "cell_type": "code",
   "execution_count": null,
   "metadata": {},
   "outputs": [],
   "source": []
  }
 ],
 "metadata": {
  "interpreter": {
   "hash": "40d3a090f54c6569ab1632332b64b2c03c39dcf918b08424e98f38b5ae0af88f"
  },
  "kernelspec": {
   "display_name": "Python 3.9.7 ('base')",
   "language": "python",
   "name": "python3"
  },
  "language_info": {
   "codemirror_mode": {
    "name": "ipython",
    "version": 3
   },
   "file_extension": ".py",
   "mimetype": "text/x-python",
   "name": "python",
   "nbconvert_exporter": "python",
   "pygments_lexer": "ipython3",
   "version": "3.9.7"
  },
  "orig_nbformat": 4
 },
 "nbformat": 4,
 "nbformat_minor": 2
}
